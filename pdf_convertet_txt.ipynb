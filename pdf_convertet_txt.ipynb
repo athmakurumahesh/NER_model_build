{
 "cells": [
  {
   "cell_type": "code",
   "execution_count": 7,
   "id": "92d9e5a3",
   "metadata": {},
   "outputs": [
    {
     "name": "stdout",
     "output_type": "stream",
     "text": [
      "Looking in indexes: https://pypi.apple.com/simple/, https://artifacts.apple.com/api/pypi/apple-pypi-integration-local/simple/\n",
      "Requirement already satisfied: pdfplumber in /usr/local/miniconda/lib/python3.7/site-packages (0.9.0)\n",
      "Requirement already satisfied: Wand>=0.6.10 in /usr/local/miniconda/lib/python3.7/site-packages (from pdfplumber) (0.6.11)\n",
      "Requirement already satisfied: pdfminer.six==20221105 in /usr/local/miniconda/lib/python3.7/site-packages (from pdfplumber) (20221105)\n",
      "Requirement already satisfied: Pillow>=9.1 in /usr/local/miniconda/lib/python3.7/site-packages (from pdfplumber) (9.5.0)\n",
      "Requirement already satisfied: typing-extensions; python_version < \"3.8\" in /usr/local/miniconda/lib/python3.7/site-packages (from pdfminer.six==20221105->pdfplumber) (4.4.0)\n",
      "Requirement already satisfied: charset-normalizer>=2.0.0 in /usr/local/miniconda/lib/python3.7/site-packages (from pdfminer.six==20221105->pdfplumber) (2.0.4)\n",
      "Requirement already satisfied: cryptography>=36.0.0 in /usr/local/miniconda/lib/python3.7/site-packages (from pdfminer.six==20221105->pdfplumber) (41.0.2)\n",
      "Requirement already satisfied: cffi>=1.12 in /usr/local/miniconda/lib/python3.7/site-packages (from cryptography>=36.0.0->pdfminer.six==20221105->pdfplumber) (1.15.0)\n",
      "Requirement already satisfied: pycparser in /usr/local/miniconda/lib/python3.7/site-packages (from cffi>=1.12->cryptography>=36.0.0->pdfminer.six==20221105->pdfplumber) (2.21)\n",
      "Text extracted from PDF and saved as 'Output_164968 - Apple Solar Star - March 2023 - Invoice.txt' file.\n"
     ]
    }
   ],
   "source": [
    "!pip install pdfplumber\n",
    "import pdfplumber\n",
    "\n",
    "def extract_text_from_pdf(pdf_path):\n",
    "    text = \"\"\n",
    "    with pdfplumber.open(pdf_path) as pdf:\n",
    "        for page in pdf.pages:\n",
    "            page_text = page.extract_text().strip()\n",
    "            text += page_text + \"\\n\"\n",
    "    return text.strip()\n",
    "\n",
    "pdf_path = '164968 - Apple Solar Star - March 2023 - Invoice.pdf'\n",
    "text = extract_text_from_pdf(pdf_path)\n",
    "\n",
    "output_path = 'Output_164968 - Apple Solar Star - March 2023 - Invoice.txt'\n",
    "with open(output_path, 'w') as file:\n",
    "    file.write(text)\n",
    "\n",
    "print(f\"Text extracted from PDF and saved as '{output_path}' file.\")\n"
   ]
  },
  {
   "cell_type": "code",
   "execution_count": null,
   "id": "af09390c",
   "metadata": {},
   "outputs": [],
   "source": []
  }
 ],
 "metadata": {
  "kernelspec": {
   "display_name": "Python 3 (ipykernel)",
   "language": "python",
   "name": "python3"
  },
  "language_info": {
   "codemirror_mode": {
    "name": "ipython",
    "version": 3
   },
   "file_extension": ".py",
   "mimetype": "text/x-python",
   "name": "python",
   "nbconvert_exporter": "python",
   "pygments_lexer": "ipython3",
   "version": "3.7.7"
  }
 },
 "nbformat": 4,
 "nbformat_minor": 5
}
